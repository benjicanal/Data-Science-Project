{
 "cells": [
  {
   "cell_type": "markdown",
   "id": "780b93b4-038e-4550-bd27-4e88805bb7dc",
   "metadata": {},
   "source": [
    "# Face Recognition APP"
   ]
  },
  {
   "cell_type": "markdown",
   "id": "8cb4ca43-7422-4743-b651-442cfe7077cb",
   "metadata": {},
   "source": [
    "Install usefull libraries : \n",
    "1. Labelme : Application pour permettre l'annotation d'images\n",
    "2. Open CV\n",
    "3. Albumentations : Bibliothèque pour l'augmentation des données dans la vision par ordinateur."
   ]
  },
  {
   "cell_type": "code",
   "execution_count": null,
   "id": "02ba839c-bf70-40a4-a299-a9ae1cebf772",
   "metadata": {},
   "outputs": [],
   "source": [
    "!pip install opencv-python tensorflow labelme albumentations matplotlib "
   ]
  },
  {
   "cell_type": "code",
   "execution_count": 4,
   "id": "74687c69-8f5c-4ed4-be9a-3dba3332816b",
   "metadata": {},
   "outputs": [],
   "source": [
    "import os \n",
    "import time\n",
    "import cv2\n",
    "import uuid"
   ]
  },
  {
   "cell_type": "markdown",
   "id": "c445627d-9a6f-4156-a033-f1b5ae77d42c",
   "metadata": {},
   "source": [
    "## Récupération des données "
   ]
  },
  {
   "cell_type": "markdown",
   "id": "a71c8b85-6efc-4937-b8b7-20458bff7736",
   "metadata": {},
   "source": [
    "**Code utile pour récupérer les données de la web cam utilisant open cv**"
   ]
  },
  {
   "cell_type": "code",
   "execution_count": 5,
   "id": "9c63c4e5-71f1-46bf-8eff-be20d3e01b28",
   "metadata": {},
   "outputs": [],
   "source": [
    "IMAGES_PATH = os.path.join('data','images')\n",
    "number_images = 30"
   ]
  },
  {
   "cell_type": "code",
   "execution_count": 9,
   "id": "b1ad3be3-dbfa-4420-8b60-c31aba1a2b20",
   "metadata": {},
   "outputs": [
    {
     "name": "stdout",
     "output_type": "stream",
     "text": [
      "Collecting image 0\n",
      "Collecting image 1\n",
      "Collecting image 2\n",
      "Collecting image 3\n",
      "Collecting image 4\n",
      "Collecting image 5\n",
      "Collecting image 6\n",
      "Collecting image 7\n",
      "Collecting image 8\n",
      "Collecting image 9\n",
      "Collecting image 10\n",
      "Collecting image 11\n",
      "Collecting image 12\n",
      "Collecting image 13\n",
      "Collecting image 14\n",
      "Collecting image 15\n",
      "Collecting image 16\n",
      "Collecting image 17\n",
      "Collecting image 18\n",
      "Collecting image 19\n",
      "Collecting image 20\n",
      "Collecting image 21\n",
      "Collecting image 22\n",
      "Collecting image 23\n",
      "Collecting image 24\n",
      "Collecting image 25\n",
      "Collecting image 26\n",
      "Collecting image 27\n",
      "Collecting image 28\n",
      "Collecting image 29\n"
     ]
    }
   ],
   "source": [
    "cap = cv2.VideoCapture(0)\n",
    "for imgnum in range(number_images):\n",
    "    print('Collecting image {}'.format(imgnum))\n",
    "    ret, frame = cap.read()\n",
    "    imgname = os.path.join(IMAGES_PATH,f'{str(uuid.uuid1())}.jpg')\n",
    "    cv2.imwrite(imgname, frame)\n",
    "    cv2.imshow('frame', frame)\n",
    "    time.sleep(0.5)\n",
    "\n",
    "    if cv2.waitKey(1) & 0xFF == ord('q'):\n",
    "        break\n",
    "cap.release()\n",
    "cv2.destroyAllWindows()"
   ]
  },
  {
   "cell_type": "code",
   "execution_count": null,
   "id": "233d22ee-4471-47c2-9f12-6fa65a8640f6",
   "metadata": {},
   "outputs": [],
   "source": [
    "!labelme\n"
   ]
  },
  {
   "cell_type": "code",
   "execution_count": null,
   "id": "ebcdfdfd-61e1-41df-a3ca-fcd038d12690",
   "metadata": {},
   "outputs": [],
   "source": []
  }
 ],
 "metadata": {
  "kernelspec": {
   "display_name": "Face App Project",
   "language": "python",
   "name": "face_recognition"
  },
  "language_info": {
   "codemirror_mode": {
    "name": "ipython",
    "version": 3
   },
   "file_extension": ".py",
   "mimetype": "text/x-python",
   "name": "python",
   "nbconvert_exporter": "python",
   "pygments_lexer": "ipython3",
   "version": "3.12.4"
  }
 },
 "nbformat": 4,
 "nbformat_minor": 5
}
